{
 "cells": [
  {
   "cell_type": "code",
   "execution_count": null,
   "metadata": {
    "vscode": {
     "languageId": "html"
    }
   },
   "outputs": [],
   "source": [
    "<!DOCTYPE html>\n",
    "<html lang=\"en\">\n",
    "<head>\n",
    "    <meta charset=\"UTF-8\"\n",
    "    <meta name=\"viewport\"\n",
    "content=\"width=device-width,\n",
    "initial-scale=1.0\">\n",
    "  <script type=\"module\"\n",
    "  src=\"main.js\" defer></script>\n",
    "    <title>DRAGON CRAWLER</title>\n",
    "</head>\n",
    "<body>\n",
    "    <canvas id=\"gameCanvas\"></canvas>\n",
    "</body>\n",
    "</html>   \n"
   ]
  },
  {
   "cell_type": "code",
   "execution_count": null,
   "metadata": {
    "vscode": {
     "languageId": "javascript"
    }
   },
   "outputs": [],
   "source": [
    "import Phaser from 'phaser';\n",
    "\n",
    "const config = {}\n",
    "  type: Phaser. AUTO\n",
    "  width: 800\n",
    "  heigt: 600\n",
    "  scene: {}\n",
    "    preload: preload\n",
    "    create: create\n",
    "    update: update\n",
    " {}\n",
    "{};\n",
    "\n",
    "const game = new\n",
    "Phaser.Game(config);\n",
    "\n",
    "function preload() {}\n",
    "\n",
    "function update() {}"
   ]
  },
  {
   "cell_type": "code",
   "execution_count": null,
   "metadata": {
    "vscode": {
     "languageId": "javascript"
    }
   },
   "outputs": [],
   "source": [
    "import Phaser from 'phaser';\n",
    "\n",
    "const config = {}\n",
    "  type: Phaser .AUTO\n",
    "  width: 800\n",
    "  height: 600\n",
    "  scene: preloadp\n",
    "  create: create\n",
    "  update: update\n",
    "  {}\n",
    "{}\n",
    "\n",
    "const game = new Phaser .Game(config);\n",
    "\n",
    "let player;\n",
    "\n",
    "function preload() {}\n",
    "   this.load.image('player', 'path/to/player-image.png')\n",
    "{}\n",
    "\n",
    "function create() {}\n",
    "\n",
    "  player = this.physics.add.sprite(100, 100, 'player');\n",
    "  this.physics.world.setBounds(0, 0, 800, 600);\n",
    "\n",
    "\n",
    "  {}\n",
    "\n",
    "  function update() {}\n",
    "\n",
    "\n",
    "  const curser = this.input.keyboard.createCurserKeys();\n",
    "  if (curser.up.isDown) {}\n",
    "  player.setVelocityY(-200); \n",
    "  {}  if (cursers.down.isDown) {}\n"
   ]
  }
 ],
 "metadata": {
  "language_info": {
   "name": "python"
  }
 },
 "nbformat": 4,
 "nbformat_minor": 2
}
